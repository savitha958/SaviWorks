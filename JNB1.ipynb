{
    "cells": [
        {
            "metadata": {
                "collapsed": true
            },
            "cell_type": "markdown",
            "source": "# My 1st  IBM WATSON STUDIO Jupyter Notebook"
        },
        {
            "metadata": {},
            "cell_type": "markdown",
            "source": "#  Savitha S\nI am a Data Scientist"
        },
        {
            "metadata": {},
            "cell_type": "markdown",
            "source": "###### I am interested in data science because it help better understanding of large volume of data present as various types and in sources. Finally it retrieves good computation "
        },
        {
            "metadata": {},
            "cell_type": "markdown",
            "source": "#### simple python pandas program"
        },
        {
            "metadata": {},
            "cell_type": "code",
            "source": "import pandas as pd\nname=['A','B','C','D']\nmark=['30','36','45','42']\n\ndata=pd.DataFrame([name,mark])\ndata",
            "execution_count": 2,
            "outputs": [
                {
                    "output_type": "execute_result",
                    "execution_count": 2,
                    "data": {
                        "text/plain": "    0   1   2   3\n0   A   B   C   D\n1  30  36  45  42",
                        "text/html": "<div>\n<style scoped>\n    .dataframe tbody tr th:only-of-type {\n        vertical-align: middle;\n    }\n\n    .dataframe tbody tr th {\n        vertical-align: top;\n    }\n\n    .dataframe thead th {\n        text-align: right;\n    }\n</style>\n<table border=\"1\" class=\"dataframe\">\n  <thead>\n    <tr style=\"text-align: right;\">\n      <th></th>\n      <th>0</th>\n      <th>1</th>\n      <th>2</th>\n      <th>3</th>\n    </tr>\n  </thead>\n  <tbody>\n    <tr>\n      <th>0</th>\n      <td>A</td>\n      <td>B</td>\n      <td>C</td>\n      <td>D</td>\n    </tr>\n    <tr>\n      <th>1</th>\n      <td>30</td>\n      <td>36</td>\n      <td>45</td>\n      <td>42</td>\n    </tr>\n  </tbody>\n</table>\n</div>"
                    },
                    "metadata": {}
                }
            ]
        },
        {
            "metadata": {},
            "cell_type": "markdown",
            "source": "<href>www.ibm.com</href>"
        },
        {
            "metadata": {},
            "cell_type": "markdown",
            "source": " <ol >\n        <li>Savi</li>\n        <li>Van</li>\n        <li>Sun</li>\n        <li>Jot</li>\n        <li>Sri</li>\n    </ol>"
        },
        {
            "metadata": {},
            "cell_type": "markdown",
            "source": " <ul>\n        <li>Apple</li>\n        <li>Orange</li>\n        <li>Lemon</li>\n        <li>Banana</li>\n        <li>Kiwi</li>\n    </ul>"
        },
        {
            "metadata": {},
            "cell_type": "markdown",
            "source": ""
        }
    ],
    "metadata": {
        "kernelspec": {
            "name": "python3",
            "display_name": "Python 3.9",
            "language": "python"
        },
        "language_info": {
            "name": "python",
            "version": "3.9.7",
            "mimetype": "text/x-python",
            "codemirror_mode": {
                "name": "ipython",
                "version": 3
            },
            "pygments_lexer": "ipython3",
            "nbconvert_exporter": "python",
            "file_extension": ".py"
        }
    },
    "nbformat": 4,
    "nbformat_minor": 1
}